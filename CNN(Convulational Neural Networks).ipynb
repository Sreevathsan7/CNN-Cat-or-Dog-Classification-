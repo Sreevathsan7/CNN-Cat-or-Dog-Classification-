{
 "cells": [
  {
   "cell_type": "markdown",
   "metadata": {},
   "source": [
    "# Importing the Libraries"
   ]
  },
  {
   "cell_type": "code",
   "execution_count": 1,
   "metadata": {},
   "outputs": [],
   "source": [
    "import tensorflow as tf\n",
    "from keras.preprocessing.image import ImageDataGenerator"
   ]
  },
  {
   "cell_type": "markdown",
   "metadata": {},
   "source": [
    "# Data Preprocessing"
   ]
  },
  {
   "cell_type": "markdown",
   "metadata": {},
   "source": [
    "## Training set preprocessing"
   ]
  },
  {
   "cell_type": "code",
   "execution_count": 2,
   "metadata": {},
   "outputs": [
    {
     "name": "stdout",
     "output_type": "stream",
     "text": [
      "Found 8000 images belonging to 2 classes.\n"
     ]
    }
   ],
   "source": [
    "#To perform image augmentation (to rotate and zoom out of images in our dataset to prevent overfitting of the training set)\n",
    "#The rescale parameter here performs feature scaling, each pixel is between 0-255 by dividing it all by 255 all pixel values take a range of values betweeen 0-1\n",
    "\n",
    "train_datagen = ImageDataGenerator(\n",
    "        rescale=1./255,\n",
    "        shear_range=0.2,\n",
    "        zoom_range=0.2,\n",
    "        horizontal_flip=True)\n",
    "\n",
    "#Dataset folder contains the training set and testing set\n",
    "# Reducing target size ,makes the training faster\n",
    "#Class mode is binary here since we want a binary output here (either cat or dog)\n",
    "training_set = train_datagen.flow_from_directory(\n",
    "        'dataset/training_set',\n",
    "        target_size=(64,64),\n",
    "        batch_size=32,\n",
    "        class_mode='binary')\n",
    "\n"
   ]
  },
  {
   "cell_type": "markdown",
   "metadata": {},
   "source": [
    "## Test set preprocessing"
   ]
  },
  {
   "cell_type": "code",
   "execution_count": 3,
   "metadata": {},
   "outputs": [
    {
     "name": "stdout",
     "output_type": "stream",
     "text": [
      "Found 2000 images belonging to 2 classes.\n"
     ]
    }
   ],
   "source": [
    "# Note that we are not reshaping or altering the images here just like how we only transform the test set and not use fit for a normal numerical datset.\n",
    "test_datagen = ImageDataGenerator(rescale=1./255)\n",
    "\n",
    "testing_set = test_datagen.flow_from_directory(\n",
    "        'dataset/test_set',\n",
    "        target_size=(64,64),\n",
    "        batch_size=32,\n",
    "        class_mode='binary')\n"
   ]
  },
  {
   "cell_type": "markdown",
   "metadata": {},
   "source": [
    "# Building the CNN"
   ]
  },
  {
   "cell_type": "markdown",
   "metadata": {},
   "source": [
    "## Intializing the CNN"
   ]
  },
  {
   "cell_type": "code",
   "execution_count": 4,
   "metadata": {},
   "outputs": [],
   "source": [
    "cnn=tf.keras.models.Sequential()"
   ]
  },
  {
   "cell_type": "markdown",
   "metadata": {},
   "source": [
    "## Convolution "
   ]
  },
  {
   "cell_type": "code",
   "execution_count": 5,
   "metadata": {},
   "outputs": [],
   "source": [
    "# Filter is the number of feature extractors\n",
    "# kernel size is the size of the feature extraction matrix (3,3) here\n",
    "#input shape 64,64 because we changed the target size to 64,64 in data preprocessing, 3-> Coloured image, 1-> black and white image\n",
    "cnn.add(tf.keras.layers.Conv2D(filters=32,kernel_size=3,activation='relu',input_shape=[64,64,3]))"
   ]
  },
  {
   "cell_type": "markdown",
   "metadata": {},
   "source": [
    "## Pooling"
   ]
  },
  {
   "cell_type": "code",
   "execution_count": 6,
   "metadata": {},
   "outputs": [],
   "source": [
    "cnn.add(tf.keras.layers.MaxPool2D(pool_size=2,strides=2))"
   ]
  },
  {
   "cell_type": "markdown",
   "metadata": {},
   "source": [
    "## Adding a second convolutional layer   "
   ]
  },
  {
   "cell_type": "code",
   "execution_count": 7,
   "metadata": {},
   "outputs": [],
   "source": [
    "#We dont have to mention the input size after the first layer\n",
    "cnn.add(tf.keras.layers.Conv2D(filters=32,kernel_size=3,activation='relu'))\n",
    "        \n",
    "cnn.add(tf.keras.layers.MaxPool2D(pool_size=2,strides=2))"
   ]
  },
  {
   "cell_type": "markdown",
   "metadata": {},
   "source": [
    "## Flatening"
   ]
  },
  {
   "cell_type": "code",
   "execution_count": 8,
   "metadata": {},
   "outputs": [],
   "source": [
    "cnn.add(tf.keras.layers.Flatten())"
   ]
  },
  {
   "cell_type": "markdown",
   "metadata": {},
   "source": [
    "## Full Connection"
   ]
  },
  {
   "cell_type": "code",
   "execution_count": 9,
   "metadata": {},
   "outputs": [],
   "source": [
    "# Creating a hidden layer with 128 neurons and using the rectifier activating function\n",
    "cnn.add(tf.keras.layers.Dense(units=128,activation='relu'))"
   ]
  },
  {
   "cell_type": "markdown",
   "metadata": {},
   "source": [
    "## Output Layer"
   ]
  },
  {
   "cell_type": "code",
   "execution_count": 10,
   "metadata": {},
   "outputs": [],
   "source": [
    "# Creating an output layer with sigmoid activating function(binary classification)\n",
    "cnn.add(tf.keras.layers.Dense(units=1,activation='sigmoid'))"
   ]
  },
  {
   "cell_type": "markdown",
   "metadata": {},
   "source": [
    "## Compiling the CNN"
   ]
  },
  {
   "cell_type": "code",
   "execution_count": 11,
   "metadata": {},
   "outputs": [],
   "source": [
    "cnn.compile(optimizer='adam',loss='binary_crossentropy',metrics=['accuracy'])"
   ]
  },
  {
   "cell_type": "markdown",
   "metadata": {},
   "source": [
    "## Training the CNN"
   ]
  },
  {
   "cell_type": "code",
   "execution_count": 12,
   "metadata": {},
   "outputs": [
    {
     "name": "stdout",
     "output_type": "stream",
     "text": [
      "Epoch 1/25\n",
      "250/250 [==============================] - 340s 1s/step - loss: 0.6542 - accuracy: 0.6033 - val_loss: 0.5813 - val_accuracy: 0.7060\n",
      "Epoch 2/25\n",
      "250/250 [==============================] - 293s 1s/step - loss: 0.5782 - accuracy: 0.7020 - val_loss: 0.5523 - val_accuracy: 0.7130\n",
      "Epoch 3/25\n",
      "250/250 [==============================] - 277s 1s/step - loss: 0.5386 - accuracy: 0.7325 - val_loss: 0.5313 - val_accuracy: 0.7425\n",
      "Epoch 4/25\n",
      "250/250 [==============================] - 254s 1s/step - loss: 0.5089 - accuracy: 0.7466 - val_loss: 0.4924 - val_accuracy: 0.7785\n",
      "Epoch 5/25\n",
      "250/250 [==============================] - 227s 909ms/step - loss: 0.4885 - accuracy: 0.7640 - val_loss: 0.4908 - val_accuracy: 0.7680\n",
      "Epoch 6/25\n",
      "250/250 [==============================] - 274s 1s/step - loss: 0.4660 - accuracy: 0.7775 - val_loss: 0.5039 - val_accuracy: 0.7635\n",
      "Epoch 7/25\n",
      "250/250 [==============================] - 273s 1s/step - loss: 0.4600 - accuracy: 0.7781 - val_loss: 0.4641 - val_accuracy: 0.7780\n",
      "Epoch 8/25\n",
      "250/250 [==============================] - 303s 1s/step - loss: 0.4427 - accuracy: 0.7880 - val_loss: 0.4607 - val_accuracy: 0.7845\n",
      "Epoch 9/25\n",
      "250/250 [==============================] - 294s 1s/step - loss: 0.4233 - accuracy: 0.8055 - val_loss: 0.4627 - val_accuracy: 0.7870\n",
      "Epoch 10/25\n",
      "250/250 [==============================] - 296s 1s/step - loss: 0.4081 - accuracy: 0.8102 - val_loss: 0.4323 - val_accuracy: 0.8025\n",
      "Epoch 11/25\n",
      "250/250 [==============================] - 301s 1s/step - loss: 0.3928 - accuracy: 0.8210 - val_loss: 0.4470 - val_accuracy: 0.7970\n",
      "Epoch 12/25\n",
      "250/250 [==============================] - 303s 1s/step - loss: 0.3779 - accuracy: 0.8309 - val_loss: 0.4857 - val_accuracy: 0.7810\n",
      "Epoch 13/25\n",
      "250/250 [==============================] - 291s 1s/step - loss: 0.3691 - accuracy: 0.8324 - val_loss: 0.5583 - val_accuracy: 0.7640\n",
      "Epoch 14/25\n",
      "250/250 [==============================] - 359s 1s/step - loss: 0.3591 - accuracy: 0.8438 - val_loss: 0.4729 - val_accuracy: 0.7980\n",
      "Epoch 15/25\n",
      "250/250 [==============================] - 259s 1s/step - loss: 0.3416 - accuracy: 0.8489 - val_loss: 0.4638 - val_accuracy: 0.8090\n",
      "Epoch 16/25\n",
      "250/250 [==============================] - 283s 1s/step - loss: 0.3331 - accuracy: 0.8509 - val_loss: 0.4429 - val_accuracy: 0.8125\n",
      "Epoch 17/25\n",
      "250/250 [==============================] - 292s 1s/step - loss: 0.3216 - accuracy: 0.8590 - val_loss: 0.4717 - val_accuracy: 0.8035\n",
      "Epoch 18/25\n",
      "250/250 [==============================] - 299s 1s/step - loss: 0.2976 - accuracy: 0.8761 - val_loss: 0.4724 - val_accuracy: 0.8115\n",
      "Epoch 19/25\n",
      "250/250 [==============================] - 297s 1s/step - loss: 0.2865 - accuracy: 0.8775 - val_loss: 0.4803 - val_accuracy: 0.8030\n",
      "Epoch 20/25\n",
      "250/250 [==============================] - 326s 1s/step - loss: 0.2772 - accuracy: 0.8800 - val_loss: 0.5154 - val_accuracy: 0.8005\n",
      "Epoch 21/25\n",
      "250/250 [==============================] - 267s 1s/step - loss: 0.2673 - accuracy: 0.8845 - val_loss: 0.5042 - val_accuracy: 0.8090\n",
      "Epoch 22/25\n",
      "250/250 [==============================] - 288s 1s/step - loss: 0.2499 - accuracy: 0.8967 - val_loss: 0.5180 - val_accuracy: 0.7995\n",
      "Epoch 23/25\n",
      "250/250 [==============================] - 301s 1s/step - loss: 0.2435 - accuracy: 0.8986 - val_loss: 0.5291 - val_accuracy: 0.8075\n",
      "Epoch 24/25\n",
      "250/250 [==============================] - 315s 1s/step - loss: 0.2267 - accuracy: 0.9061 - val_loss: 0.6045 - val_accuracy: 0.7805\n",
      "Epoch 25/25\n",
      "250/250 [==============================] - 305s 1s/step - loss: 0.2273 - accuracy: 0.9100 - val_loss: 0.5175 - val_accuracy: 0.7970\n"
     ]
    },
    {
     "data": {
      "text/plain": [
       "<tensorflow.python.keras.callbacks.History at 0x1653ac87908>"
      ]
     },
     "execution_count": 12,
     "metadata": {},
     "output_type": "execute_result"
    }
   ],
   "source": [
    "cnn.fit(x=training_set,validation_data=testing_set,epochs=25)"
   ]
  },
  {
   "cell_type": "markdown",
   "metadata": {},
   "source": [
    "## Predicting for a single value"
   ]
  },
  {
   "cell_type": "code",
   "execution_count": 17,
   "metadata": {},
   "outputs": [],
   "source": [
    "import numpy as np\n",
    "from keras.preprocessing import image\n",
    "## testing a dog pic which was not part of the test test or train set (external real life sample) to chech for results\n",
    "test_image = image.load_img('kira.jpeg', target_size = (64, 64))\n",
    "test_image = image.img_to_array(test_image)\n",
    "test_image = np.expand_dims(test_image, axis = 0)\n",
    "result = cnn.predict(test_image)\n",
    "training_set.class_indices\n",
    "if result[0][0] == 1:\n",
    "  prediction = 'dog'\n",
    "else:\n",
    "  prediction = 'cat'"
   ]
  },
  {
   "cell_type": "code",
   "execution_count": 18,
   "metadata": {},
   "outputs": [
    {
     "name": "stdout",
     "output_type": "stream",
     "text": [
      "dog\n"
     ]
    }
   ],
   "source": [
    "print(prediction)"
   ]
  },
  {
   "cell_type": "code",
   "execution_count": null,
   "metadata": {},
   "outputs": [],
   "source": []
  }
 ],
 "metadata": {
  "kernelspec": {
   "display_name": "Python 3",
   "language": "python",
   "name": "python3"
  },
  "language_info": {
   "codemirror_mode": {
    "name": "ipython",
    "version": 3
   },
   "file_extension": ".py",
   "mimetype": "text/x-python",
   "name": "python",
   "nbconvert_exporter": "python",
   "pygments_lexer": "ipython3",
   "version": "3.7.6"
  }
 },
 "nbformat": 4,
 "nbformat_minor": 4
}
